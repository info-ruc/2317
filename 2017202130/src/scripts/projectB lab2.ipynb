{
 "cells": [
  {
   "cell_type": "code",
   "execution_count": 1,
   "metadata": {},
   "outputs": [
    {
     "name": "stdout",
     "output_type": "stream",
     "text": [
      "3531 200.0 [ 0.85072654 -0.79839842  2.28695231  2.7484223   0.08529538]\n",
      "(200.0, array([ 0.85072654, -0.79839842,  2.28695231,  2.7484223 ,  0.08529538]))\n"
     ]
    }
   ],
   "source": [
    "#模拟退火算法\n",
    "import numpy as np\n",
    "import gym\n",
    "import time\n",
    "import random\n",
    "\n",
    "def get_action(weights, observation):# 根据权值对当前状态做出决策\n",
    "    wxb = np.dot(weights[:4], observation) + weights[4] # 计算加权和\n",
    "    if wxb >= 0:# 加权和大于0时选取动作1，否则选取0\n",
    "        return 1\n",
    "    else:\n",
    "        return 0\n",
    "\n",
    "def get_sum_reward_by_weights(env, weights):\n",
    "# 测试不同权值的控制模型有效控制的持续时间（或奖励）\n",
    "    observation = env.reset() # 重置初始状态\n",
    "    sum_reward = 0 # 记录总的奖励\n",
    "    for t in range(200):\n",
    "        # time.sleep(0.01)\n",
    "        # env.render()\n",
    "        action = get_action(weights, observation) # 获取当前权值下的决策动作\n",
    "        observation, reward, done, info = env.step(action)# 执行动作并获取这一动作下的下一时间步长状态\n",
    "        sum_reward += reward\n",
    "        # print(sum_reward, action, observation, reward, done, info)\n",
    "        if done:# 如若游戏结束，返回\n",
    "            #print(\"Episode finished after {} timesteps\".format(t+1))\n",
    "            break\n",
    "    return sum_reward\n",
    "\n",
    "\n",
    "def get_weights_by_random_guess():\n",
    "# 选取随机猜测的5个随机权值\n",
    "    return np.random.rand(5)\n",
    "\n",
    "def get_weights_by_hill_climbing(best_weights):\n",
    "# 通过爬山算法选取权值（在当前最好权值上加入随机值）\n",
    "    return best_weights + np.random.normal(0, 0.1, 5)\n",
    "\n",
    "def get_best_result(algo=\"hill_climbing\"):\n",
    "    env = gym.make(\"CartPole-v0\")\n",
    "    np.random.seed(10)\n",
    "    best_reward = 0 # 初始最佳奖励\n",
    "    best_weights = np.random.rand(5) # 初始权值为随机取值\n",
    "    max_reward = best_reward\n",
    "    max_weights = best_weights\n",
    "\n",
    "    for iter in range(10000):# 迭代10000次\n",
    "        cur_weights = None\n",
    "\n",
    "        if algo == \"hill_climbing\": # 选取动作决策的算法 \n",
    "            # print(best_weights)\n",
    "            cur_weights = get_weights_by_hill_climbing(best_weights)\n",
    "        else: # 若为随机猜测算法，则选取随机权值\n",
    "            cur_weights = get_weights_by_random_guess()\n",
    "        # 获取当前权值的模型控制的奖励和\n",
    "        cur_sum_reward = get_sum_reward_by_weights(env, cur_weights)\n",
    "\n",
    "        # print(cur_sum_reward, cur_weights)\n",
    "        # 更新当前最优权值\n",
    "        if cur_sum_reward > best_reward:\n",
    "            best_reward = cur_sum_reward\n",
    "            best_weights = cur_weights\n",
    "            if max_reward < best_reward:\n",
    "                max_reward = best_reward\n",
    "                max_weights = best_weights\n",
    "        # 达到最佳奖励阈值后结束\n",
    "        elif random.randint(0,10000)/10000<np.exp(-iter/10000) or cur_sum_reward < max_reward*0.90:\n",
    "            #print(iter,random.randint(0,10000)/10000,np.exp(-iter/10000)-np.exp(-1))\n",
    "            best_reward = cur_sum_reward\n",
    "            best_weights = cur_weights\n",
    "        elif max_reward >= 200:\n",
    "            break\n",
    "\n",
    "    print(iter, max_reward, max_weights)\n",
    "    return max_reward, max_weights\n",
    "\n",
    "# 程序从这里开始执行\n",
    "print(get_best_result()) # 调用爬山算法寻优并输出结果 "
   ]
  },
  {
   "cell_type": "code",
   "execution_count": 2,
   "metadata": {},
   "outputs": [
    {
     "name": "stdout",
     "output_type": "stream",
     "text": [
      "1486 200.0 [ 0.85072654 -0.79839842  2.28695231  2.7484223   0.08529538]\n"
     ]
    }
   ],
   "source": [
    "#数据准备,通过cartpole随机决策输入样本数据\n",
    "import gym\n",
    "max_reward, max_weights=get_best_result()\n",
    "X=[]     #记录observation\n",
    "Y=[]     #记录正确的摆动动作\n",
    "env = gym.make('CartPole-v0')\n",
    "for i_episode in range(1000):\n",
    "    observation = env.reset()\n",
    "    for step in range(200):\n",
    "        #env.render()\n",
    "        #print(type(observation.tolist()))\n",
    "        action = env.action_space.sample()\n",
    "        action = get_action(max_weights, observation)\n",
    "        #print (action,' ',action^1)\n",
    "        observation, reward, done, info = env.step(action)\n",
    "        X.append(observation.tolist())\n",
    "        if reward:\n",
    "            Y.append(action)\n",
    "        else :\n",
    "            Y.append(action^1)\n",
    "        if done:\n",
    "            #print(\"Episode finished after {} timesteps\".format(step+1))\n",
    "            break"
   ]
  },
  {
   "cell_type": "code",
   "execution_count": 3,
   "metadata": {},
   "outputs": [],
   "source": [
    "#将80%数据作为训练集，剩下20%数据作为验证集\n",
    "from sklearn.model_selection import train_test_split \n",
    "x_train,x_test,y_train,y_test = train_test_split(X,Y,test_size=0.2) "
   ]
  },
  {
   "cell_type": "code",
   "execution_count": 4,
   "metadata": {
    "scrolled": true
   },
   "outputs": [],
   "source": [
    "#对数据进行归一化处理\n",
    "from sklearn.preprocessing import StandardScaler \n",
    "\n",
    "scaler = StandardScaler()     \n",
    "scaler.fit(x_train)     \n",
    "x_train = scaler.fit_transform(x_train)       \n",
    "x_test = scaler.fit_transform(x_test)\n"
   ]
  },
  {
   "cell_type": "code",
   "execution_count": 5,
   "metadata": {},
   "outputs": [
    {
     "name": "stdout",
     "output_type": "stream",
     "text": [
      "测试集准确率：98.781152%\n"
     ]
    }
   ],
   "source": [
    "#SGD 二元分类器\n",
    "from sklearn.linear_model import SGDClassifier\n",
    "\n",
    "sgd_clf = SGDClassifier(max_iter=5, tol=-np.infty, random_state=42)\n",
    "sgd_clf.fit(x_train, y_train)\n",
    "\n",
    "predict = sgd_clf.predict(x_test)    \n",
    "right = sum(predict == y_test) \n",
    "print ('测试集准确率：%f%%'%(right*100.0/predict.shape[0]))       #计算在测试集上的准确度"
   ]
  },
  {
   "cell_type": "code",
   "execution_count": 6,
   "metadata": {},
   "outputs": [
    {
     "name": "stdout",
     "output_type": "stream",
     "text": [
      "测试集准确率：95.962376%\n"
     ]
    }
   ],
   "source": [
    "#线性回归\n",
    "from sklearn.linear_model import LinearRegression\n",
    "lin_reg = LinearRegression()\n",
    "lin_reg.fit(x_train, y_train)\n",
    "\n",
    "predict = lin_reg.predict(x_test)\n",
    "right=0\n",
    "for i in range(len(predict)):\n",
    "    if predict[i] - y_test[i] < 0.5 and predict[i] - y_test[i] > -0.5:\n",
    "        right=right+1\n",
    "print ('测试集准确率：%f%%'%(right*100.0/predict.shape[0]))       #计算在测试集上的准确度"
   ]
  },
  {
   "cell_type": "code",
   "execution_count": 7,
   "metadata": {},
   "outputs": [
    {
     "name": "stdout",
     "output_type": "stream",
     "text": [
      "测试集准确率：95.965400%\n"
     ]
    }
   ],
   "source": [
    "#岭回归\n",
    "from sklearn.linear_model import Ridge\n",
    "ridge_reg = Ridge(alpha=1, solver=\"cholesky\", random_state=42)\n",
    "ridge_reg.fit(x_train, y_train)\n",
    "\n",
    "predict = ridge_reg.predict(x_test)    \n",
    "right=0\n",
    "for i in range(len(predict)):\n",
    "    if predict[i] - y_test[i] < 0.5 and predict[i] - y_test[i] > -0.5:\n",
    "        right=right+1\n",
    "print ('测试集准确率：%f%%'%(right*100.0/predict.shape[0]))       #计算在测试集上的准确度"
   ]
  },
  {
   "cell_type": "code",
   "execution_count": 8,
   "metadata": {},
   "outputs": [
    {
     "name": "stderr",
     "output_type": "stream",
     "text": [
      "C:\\Users\\dell\\Anaconda3\\lib\\site-packages\\sklearn\\linear_model\\logistic.py:433: FutureWarning: Default solver will be changed to 'lbfgs' in 0.22. Specify a solver to silence this warning.\n",
      "  FutureWarning)\n"
     ]
    },
    {
     "name": "stdout",
     "output_type": "stream",
     "text": [
      "[[0 0]\n",
      " [0 0]\n",
      " [0 0]\n",
      " ...\n",
      " [1 1]\n",
      " [1 1]\n",
      " [0 0]]\n",
      "测试集准确率：99.319502%\n"
     ]
    }
   ],
   "source": [
    "#逻辑斯蒂回归\n",
    "from sklearn.linear_model import LogisticRegression \n",
    "import numpy as np\n",
    "model = LogisticRegression()     \n",
    "model.fit(x_train,y_train)\n",
    "predict = model.predict(x_test)    \n",
    "right = sum(predict == y_test)          \n",
    "predict= np.array(predict)\n",
    "y_test = np.array(y_test)\n",
    "predict = np.hstack((predict.reshape(-1,1),y_test.reshape(-1,1)))   # 将预测值和真实值放在一块，好观察  \n",
    "print (predict)     \n",
    "print ('测试集准确率：%f%%'%(right*100.0/predict.shape[0]))       #计算在测试集上的准确度"
   ]
  },
  {
   "cell_type": "code",
   "execution_count": 9,
   "metadata": {},
   "outputs": [
    {
     "name": "stdout",
     "output_type": "stream",
     "text": [
      "测试集准确率：99.558432%\n"
     ]
    }
   ],
   "source": [
    "#SVM 向量机\n",
    "import numpy as npy\n",
    "from sklearn import svm\n",
    "# 线性核函数\n",
    "linear = svm.SVC(kernel='linear').fit(x_train, y_train)\n",
    "predict = linear.predict(x_test)    \n",
    "right = sum(predict == y_test) \n",
    "print('测试集准确率：%f%%'%(right*100.0/predict.shape[0]))"
   ]
  },
  {
   "cell_type": "code",
   "execution_count": 17,
   "metadata": {},
   "outputs": [
    {
     "name": "stdout",
     "output_type": "stream",
     "text": [
      "测试集准确率：54.458021%\n"
     ]
    }
   ],
   "source": [
    "# 多项式核函数\n",
    "poly = svm.SVC(kernel='poly', degree=2).fit(x_train, y_train)\n",
    "predict = poly.predict(x_test)    \n",
    "right = sum(predict == y_test) \n",
    "print('测试集准确率：%f%%'%(right*100.0/predict.shape[0]))"
   ]
  },
  {
   "cell_type": "code",
   "execution_count": 15,
   "metadata": {},
   "outputs": [
    {
     "name": "stdout",
     "output_type": "stream",
     "text": [
      "测试集准确率：99.476772%\n"
     ]
    }
   ],
   "source": [
    "# 径向基核函数\n",
    "rbf = svm.SVC().fit(x_train, y_train)\n",
    "predict = rbf.predict(x_test)    \n",
    "right = sum(predict == y_test) \n",
    "print('测试集准确率：%f%%'%(right*100.0/predict.shape[0]))"
   ]
  },
  {
   "cell_type": "code",
   "execution_count": 16,
   "metadata": {},
   "outputs": [
    {
     "name": "stdout",
     "output_type": "stream",
     "text": [
      "测试集准确率：84.415074%\n"
     ]
    }
   ],
   "source": [
    "#sigmoid函数\n",
    "sigmoid = svm.SVC(kernel='sigmoid').fit(x_train, y_train)\n",
    "predict = sigmoid.predict(x_test)    \n",
    "right = sum(predict == y_test) \n",
    "print('测试集准确率：%f%%'%(right*100.0/predict.shape[0]))"
   ]
  },
  {
   "cell_type": "code",
   "execution_count": 10,
   "metadata": {},
   "outputs": [
    {
     "name": "stdout",
     "output_type": "stream",
     "text": [
      "测试集准确率：99.491895%\n"
     ]
    }
   ],
   "source": [
    "#k近邻算法\n",
    "from sklearn.datasets import load_iris  \n",
    "from sklearn import neighbors  \n",
    "import sklearn\n",
    "\n",
    "knn=knn = neighbors.KNeighborsClassifier()\n",
    "#训练数据集  \n",
    "knn.fit(x_train,y_train)\n",
    "#训练准确率\n",
    "score = knn.score(x_train, y_train)\n",
    "predict = knn.predict(x_test)    \n",
    "right = sum(predict == y_test) \n",
    "print('测试集准确率：%f%%'%(right*100.0/predict.shape[0]))"
   ]
  },
  {
   "cell_type": "code",
   "execution_count": 11,
   "metadata": {},
   "outputs": [
    {
     "name": "stdout",
     "output_type": "stream",
     "text": [
      "测试集准确率：99.068473%\n"
     ]
    }
   ],
   "source": [
    "#决策树算法\n",
    "from sklearn.tree import DecisionTreeClassifier\n",
    "\n",
    "tree_clf = DecisionTreeClassifier()\n",
    "tree_clf.fit(x_train,y_train)\n",
    "\n",
    "predict = tree_clf.predict(x_test)    \n",
    "right = sum(predict == y_test) \n",
    "print('测试集准确率：%f%%'%(right*100.0/predict.shape[0]))"
   ]
  },
  {
   "cell_type": "code",
   "execution_count": 12,
   "metadata": {},
   "outputs": [
    {
     "name": "stdout",
     "output_type": "stream",
     "text": [
      "测试集准确率：99.497943%\n"
     ]
    }
   ],
   "source": [
    "#多分类器\n",
    "from sklearn.ensemble import RandomForestClassifier\n",
    "from sklearn.ensemble import VotingClassifier\n",
    "from sklearn.linear_model import LogisticRegression\n",
    "from sklearn.svm import SVC\n",
    "\n",
    "log_clf = LogisticRegression(solver=\"liblinear\", random_state=42)\n",
    "rnd_clf = RandomForestClassifier(n_estimators=10, random_state=42)\n",
    "svm_clf = SVC(gamma=\"auto\", random_state=42)\n",
    "\n",
    "voting_clf = VotingClassifier(\n",
    "    estimators=[('lr', log_clf), ('rf', rnd_clf), ('svc', svm_clf)],\n",
    "    voting='hard')\n",
    "\n",
    "voting_clf.fit(x_train, y_train)\n",
    "predict = voting_clf.predict(x_test)    \n",
    "right = sum(predict == y_test) \n",
    "print('测试集准确率：%f%%'%(right*100.0/predict.shape[0]))"
   ]
  },
  {
   "cell_type": "code",
   "execution_count": 13,
   "metadata": {},
   "outputs": [
    {
     "name": "stdout",
     "output_type": "stream",
     "text": [
      "测试集准确率：99.488870%\n"
     ]
    }
   ],
   "source": [
    "#bagging\n",
    "from sklearn.ensemble import BaggingClassifier\n",
    "from sklearn.tree import DecisionTreeClassifier\n",
    "\n",
    "bag_clf = BaggingClassifier(\n",
    "    DecisionTreeClassifier(random_state=42), n_estimators=500,\n",
    "    bootstrap=True, n_jobs=-1, random_state=42)\n",
    "bag_clf.fit(x_train, y_train)\n",
    "y_pred = bag_clf.predict(x_test)\n",
    "right = sum(y_pred == y_test) \n",
    "print('测试集准确率：%f%%'%(right*100.0/y_pred.shape[0]))"
   ]
  },
  {
   "cell_type": "code",
   "execution_count": 14,
   "metadata": {},
   "outputs": [
    {
     "name": "stdout",
     "output_type": "stream",
     "text": [
      "测试集准确率：95.832325%\n"
     ]
    }
   ],
   "source": [
    "#随机森林\n",
    "from sklearn.ensemble import RandomForestClassifier\n",
    "\n",
    "rnd_clf = RandomForestClassifier(n_estimators=500, max_leaf_nodes=16, n_jobs=-1, random_state=42)\n",
    "rnd_clf.fit(x_train, y_train)\n",
    "\n",
    "y_pred_rf = rnd_clf.predict(x_test)\n",
    "right = sum(y_pred_rf == y_test) \n",
    "print('测试集准确率：%f%%'%(right*100.0/y_pred_rf.shape[0]))"
   ]
  }
 ],
 "metadata": {
  "kernelspec": {
   "display_name": "Python 3",
   "language": "python",
   "name": "python3"
  },
  "language_info": {
   "codemirror_mode": {
    "name": "ipython",
    "version": 3
   },
   "file_extension": ".py",
   "mimetype": "text/x-python",
   "name": "python",
   "nbconvert_exporter": "python",
   "pygments_lexer": "ipython3",
   "version": "3.7.1"
  }
 },
 "nbformat": 4,
 "nbformat_minor": 2
}
